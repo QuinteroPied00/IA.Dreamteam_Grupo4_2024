{
  "cells": [
    {
      "cell_type": "markdown",
      "metadata": {
        "id": "0ViBGZyxwBU-"
      },
      "source": [
        "### Integrantes:\n",
        "- Carlos Quintero Piedrahita\n",
        "- Alejandro Ruiz\n",
        "- Priscila Acosta\n",
        "- Verónica Jímenez Ramirez"
      ]
    },
    {
      "cell_type": "markdown",
      "source": [
        "### Cargamos e instalamos las librerías\n"
      ],
      "metadata": {
        "id": "7Y373w3MwFM6"
      }
    },
    {
      "cell_type": "code",
      "source": [
        "!pip install spacy;\n",
        "!python -m spacy download es_core_news_sm;\n",
        "!pip install num2words;"
      ],
      "metadata": {
        "colab": {
          "base_uri": "https://localhost:8080/"
        },
        "id": "RBzG7r0lwPTr",
        "outputId": "9da071d0-1c87-49ed-efa5-b5e9147bde89",
        "collapsed": true
      },
      "execution_count": 30,
      "outputs": [
        {
          "output_type": "stream",
          "name": "stdout",
          "text": [
            "Requirement already satisfied: spacy in /usr/local/lib/python3.10/dist-packages (3.7.5)\n",
            "Requirement already satisfied: spacy-legacy<3.1.0,>=3.0.11 in /usr/local/lib/python3.10/dist-packages (from spacy) (3.0.12)\n",
            "Requirement already satisfied: spacy-loggers<2.0.0,>=1.0.0 in /usr/local/lib/python3.10/dist-packages (from spacy) (1.0.5)\n",
            "Requirement already satisfied: murmurhash<1.1.0,>=0.28.0 in /usr/local/lib/python3.10/dist-packages (from spacy) (1.0.10)\n",
            "Requirement already satisfied: cymem<2.1.0,>=2.0.2 in /usr/local/lib/python3.10/dist-packages (from spacy) (2.0.8)\n",
            "Requirement already satisfied: preshed<3.1.0,>=3.0.2 in /usr/local/lib/python3.10/dist-packages (from spacy) (3.0.9)\n",
            "Requirement already satisfied: thinc<8.3.0,>=8.2.2 in /usr/local/lib/python3.10/dist-packages (from spacy) (8.2.5)\n",
            "Requirement already satisfied: wasabi<1.2.0,>=0.9.1 in /usr/local/lib/python3.10/dist-packages (from spacy) (1.1.3)\n",
            "Requirement already satisfied: srsly<3.0.0,>=2.4.3 in /usr/local/lib/python3.10/dist-packages (from spacy) (2.4.8)\n",
            "Requirement already satisfied: catalogue<2.1.0,>=2.0.6 in /usr/local/lib/python3.10/dist-packages (from spacy) (2.0.10)\n",
            "Requirement already satisfied: weasel<0.5.0,>=0.1.0 in /usr/local/lib/python3.10/dist-packages (from spacy) (0.4.1)\n",
            "Requirement already satisfied: typer<1.0.0,>=0.3.0 in /usr/local/lib/python3.10/dist-packages (from spacy) (0.12.5)\n",
            "Requirement already satisfied: tqdm<5.0.0,>=4.38.0 in /usr/local/lib/python3.10/dist-packages (from spacy) (4.66.5)\n",
            "Requirement already satisfied: requests<3.0.0,>=2.13.0 in /usr/local/lib/python3.10/dist-packages (from spacy) (2.32.3)\n",
            "Requirement already satisfied: pydantic!=1.8,!=1.8.1,<3.0.0,>=1.7.4 in /usr/local/lib/python3.10/dist-packages (from spacy) (2.9.2)\n",
            "Requirement already satisfied: jinja2 in /usr/local/lib/python3.10/dist-packages (from spacy) (3.1.4)\n",
            "Requirement already satisfied: setuptools in /usr/local/lib/python3.10/dist-packages (from spacy) (71.0.4)\n",
            "Requirement already satisfied: packaging>=20.0 in /usr/local/lib/python3.10/dist-packages (from spacy) (24.1)\n",
            "Requirement already satisfied: langcodes<4.0.0,>=3.2.0 in /usr/local/lib/python3.10/dist-packages (from spacy) (3.4.1)\n",
            "Requirement already satisfied: numpy>=1.19.0 in /usr/local/lib/python3.10/dist-packages (from spacy) (1.26.4)\n",
            "Requirement already satisfied: language-data>=1.2 in /usr/local/lib/python3.10/dist-packages (from langcodes<4.0.0,>=3.2.0->spacy) (1.2.0)\n",
            "Requirement already satisfied: annotated-types>=0.6.0 in /usr/local/lib/python3.10/dist-packages (from pydantic!=1.8,!=1.8.1,<3.0.0,>=1.7.4->spacy) (0.7.0)\n",
            "Requirement already satisfied: pydantic-core==2.23.4 in /usr/local/lib/python3.10/dist-packages (from pydantic!=1.8,!=1.8.1,<3.0.0,>=1.7.4->spacy) (2.23.4)\n",
            "Requirement already satisfied: typing-extensions>=4.6.1 in /usr/local/lib/python3.10/dist-packages (from pydantic!=1.8,!=1.8.1,<3.0.0,>=1.7.4->spacy) (4.12.2)\n",
            "Requirement already satisfied: charset-normalizer<4,>=2 in /usr/local/lib/python3.10/dist-packages (from requests<3.0.0,>=2.13.0->spacy) (3.4.0)\n",
            "Requirement already satisfied: idna<4,>=2.5 in /usr/local/lib/python3.10/dist-packages (from requests<3.0.0,>=2.13.0->spacy) (3.10)\n",
            "Requirement already satisfied: urllib3<3,>=1.21.1 in /usr/local/lib/python3.10/dist-packages (from requests<3.0.0,>=2.13.0->spacy) (2.2.3)\n",
            "Requirement already satisfied: certifi>=2017.4.17 in /usr/local/lib/python3.10/dist-packages (from requests<3.0.0,>=2.13.0->spacy) (2024.8.30)\n",
            "Requirement already satisfied: blis<0.8.0,>=0.7.8 in /usr/local/lib/python3.10/dist-packages (from thinc<8.3.0,>=8.2.2->spacy) (0.7.11)\n",
            "Requirement already satisfied: confection<1.0.0,>=0.0.1 in /usr/local/lib/python3.10/dist-packages (from thinc<8.3.0,>=8.2.2->spacy) (0.1.5)\n",
            "Requirement already satisfied: click>=8.0.0 in /usr/local/lib/python3.10/dist-packages (from typer<1.0.0,>=0.3.0->spacy) (8.1.7)\n",
            "Requirement already satisfied: shellingham>=1.3.0 in /usr/local/lib/python3.10/dist-packages (from typer<1.0.0,>=0.3.0->spacy) (1.5.4)\n",
            "Requirement already satisfied: rich>=10.11.0 in /usr/local/lib/python3.10/dist-packages (from typer<1.0.0,>=0.3.0->spacy) (13.9.2)\n",
            "Requirement already satisfied: cloudpathlib<1.0.0,>=0.7.0 in /usr/local/lib/python3.10/dist-packages (from weasel<0.5.0,>=0.1.0->spacy) (0.19.0)\n",
            "Requirement already satisfied: smart-open<8.0.0,>=5.2.1 in /usr/local/lib/python3.10/dist-packages (from weasel<0.5.0,>=0.1.0->spacy) (7.0.5)\n",
            "Requirement already satisfied: MarkupSafe>=2.0 in /usr/local/lib/python3.10/dist-packages (from jinja2->spacy) (3.0.1)\n",
            "Requirement already satisfied: marisa-trie>=0.7.7 in /usr/local/lib/python3.10/dist-packages (from language-data>=1.2->langcodes<4.0.0,>=3.2.0->spacy) (1.2.0)\n",
            "Requirement already satisfied: markdown-it-py>=2.2.0 in /usr/local/lib/python3.10/dist-packages (from rich>=10.11.0->typer<1.0.0,>=0.3.0->spacy) (3.0.0)\n",
            "Requirement already satisfied: pygments<3.0.0,>=2.13.0 in /usr/local/lib/python3.10/dist-packages (from rich>=10.11.0->typer<1.0.0,>=0.3.0->spacy) (2.18.0)\n",
            "Requirement already satisfied: wrapt in /usr/local/lib/python3.10/dist-packages (from smart-open<8.0.0,>=5.2.1->weasel<0.5.0,>=0.1.0->spacy) (1.16.0)\n",
            "Requirement already satisfied: mdurl~=0.1 in /usr/local/lib/python3.10/dist-packages (from markdown-it-py>=2.2.0->rich>=10.11.0->typer<1.0.0,>=0.3.0->spacy) (0.1.2)\n",
            "Collecting es-core-news-sm==3.7.0\n",
            "  Using cached https://github.com/explosion/spacy-models/releases/download/es_core_news_sm-3.7.0/es_core_news_sm-3.7.0-py3-none-any.whl (12.9 MB)\n",
            "Requirement already satisfied: spacy<3.8.0,>=3.7.0 in /usr/local/lib/python3.10/dist-packages (from es-core-news-sm==3.7.0) (3.7.5)\n",
            "Requirement already satisfied: spacy-legacy<3.1.0,>=3.0.11 in /usr/local/lib/python3.10/dist-packages (from spacy<3.8.0,>=3.7.0->es-core-news-sm==3.7.0) (3.0.12)\n",
            "Requirement already satisfied: spacy-loggers<2.0.0,>=1.0.0 in /usr/local/lib/python3.10/dist-packages (from spacy<3.8.0,>=3.7.0->es-core-news-sm==3.7.0) (1.0.5)\n",
            "Requirement already satisfied: murmurhash<1.1.0,>=0.28.0 in /usr/local/lib/python3.10/dist-packages (from spacy<3.8.0,>=3.7.0->es-core-news-sm==3.7.0) (1.0.10)\n",
            "Requirement already satisfied: cymem<2.1.0,>=2.0.2 in /usr/local/lib/python3.10/dist-packages (from spacy<3.8.0,>=3.7.0->es-core-news-sm==3.7.0) (2.0.8)\n",
            "Requirement already satisfied: preshed<3.1.0,>=3.0.2 in /usr/local/lib/python3.10/dist-packages (from spacy<3.8.0,>=3.7.0->es-core-news-sm==3.7.0) (3.0.9)\n",
            "Requirement already satisfied: thinc<8.3.0,>=8.2.2 in /usr/local/lib/python3.10/dist-packages (from spacy<3.8.0,>=3.7.0->es-core-news-sm==3.7.0) (8.2.5)\n",
            "Requirement already satisfied: wasabi<1.2.0,>=0.9.1 in /usr/local/lib/python3.10/dist-packages (from spacy<3.8.0,>=3.7.0->es-core-news-sm==3.7.0) (1.1.3)\n",
            "Requirement already satisfied: srsly<3.0.0,>=2.4.3 in /usr/local/lib/python3.10/dist-packages (from spacy<3.8.0,>=3.7.0->es-core-news-sm==3.7.0) (2.4.8)\n",
            "Requirement already satisfied: catalogue<2.1.0,>=2.0.6 in /usr/local/lib/python3.10/dist-packages (from spacy<3.8.0,>=3.7.0->es-core-news-sm==3.7.0) (2.0.10)\n",
            "Requirement already satisfied: weasel<0.5.0,>=0.1.0 in /usr/local/lib/python3.10/dist-packages (from spacy<3.8.0,>=3.7.0->es-core-news-sm==3.7.0) (0.4.1)\n",
            "Requirement already satisfied: typer<1.0.0,>=0.3.0 in /usr/local/lib/python3.10/dist-packages (from spacy<3.8.0,>=3.7.0->es-core-news-sm==3.7.0) (0.12.5)\n",
            "Requirement already satisfied: tqdm<5.0.0,>=4.38.0 in /usr/local/lib/python3.10/dist-packages (from spacy<3.8.0,>=3.7.0->es-core-news-sm==3.7.0) (4.66.5)\n",
            "Requirement already satisfied: requests<3.0.0,>=2.13.0 in /usr/local/lib/python3.10/dist-packages (from spacy<3.8.0,>=3.7.0->es-core-news-sm==3.7.0) (2.32.3)\n",
            "Requirement already satisfied: pydantic!=1.8,!=1.8.1,<3.0.0,>=1.7.4 in /usr/local/lib/python3.10/dist-packages (from spacy<3.8.0,>=3.7.0->es-core-news-sm==3.7.0) (2.9.2)\n",
            "Requirement already satisfied: jinja2 in /usr/local/lib/python3.10/dist-packages (from spacy<3.8.0,>=3.7.0->es-core-news-sm==3.7.0) (3.1.4)\n",
            "Requirement already satisfied: setuptools in /usr/local/lib/python3.10/dist-packages (from spacy<3.8.0,>=3.7.0->es-core-news-sm==3.7.0) (71.0.4)\n",
            "Requirement already satisfied: packaging>=20.0 in /usr/local/lib/python3.10/dist-packages (from spacy<3.8.0,>=3.7.0->es-core-news-sm==3.7.0) (24.1)\n",
            "Requirement already satisfied: langcodes<4.0.0,>=3.2.0 in /usr/local/lib/python3.10/dist-packages (from spacy<3.8.0,>=3.7.0->es-core-news-sm==3.7.0) (3.4.1)\n",
            "Requirement already satisfied: numpy>=1.19.0 in /usr/local/lib/python3.10/dist-packages (from spacy<3.8.0,>=3.7.0->es-core-news-sm==3.7.0) (1.26.4)\n",
            "Requirement already satisfied: language-data>=1.2 in /usr/local/lib/python3.10/dist-packages (from langcodes<4.0.0,>=3.2.0->spacy<3.8.0,>=3.7.0->es-core-news-sm==3.7.0) (1.2.0)\n",
            "Requirement already satisfied: annotated-types>=0.6.0 in /usr/local/lib/python3.10/dist-packages (from pydantic!=1.8,!=1.8.1,<3.0.0,>=1.7.4->spacy<3.8.0,>=3.7.0->es-core-news-sm==3.7.0) (0.7.0)\n",
            "Requirement already satisfied: pydantic-core==2.23.4 in /usr/local/lib/python3.10/dist-packages (from pydantic!=1.8,!=1.8.1,<3.0.0,>=1.7.4->spacy<3.8.0,>=3.7.0->es-core-news-sm==3.7.0) (2.23.4)\n",
            "Requirement already satisfied: typing-extensions>=4.6.1 in /usr/local/lib/python3.10/dist-packages (from pydantic!=1.8,!=1.8.1,<3.0.0,>=1.7.4->spacy<3.8.0,>=3.7.0->es-core-news-sm==3.7.0) (4.12.2)\n",
            "Requirement already satisfied: charset-normalizer<4,>=2 in /usr/local/lib/python3.10/dist-packages (from requests<3.0.0,>=2.13.0->spacy<3.8.0,>=3.7.0->es-core-news-sm==3.7.0) (3.4.0)\n",
            "Requirement already satisfied: idna<4,>=2.5 in /usr/local/lib/python3.10/dist-packages (from requests<3.0.0,>=2.13.0->spacy<3.8.0,>=3.7.0->es-core-news-sm==3.7.0) (3.10)\n",
            "Requirement already satisfied: urllib3<3,>=1.21.1 in /usr/local/lib/python3.10/dist-packages (from requests<3.0.0,>=2.13.0->spacy<3.8.0,>=3.7.0->es-core-news-sm==3.7.0) (2.2.3)\n",
            "Requirement already satisfied: certifi>=2017.4.17 in /usr/local/lib/python3.10/dist-packages (from requests<3.0.0,>=2.13.0->spacy<3.8.0,>=3.7.0->es-core-news-sm==3.7.0) (2024.8.30)\n",
            "Requirement already satisfied: blis<0.8.0,>=0.7.8 in /usr/local/lib/python3.10/dist-packages (from thinc<8.3.0,>=8.2.2->spacy<3.8.0,>=3.7.0->es-core-news-sm==3.7.0) (0.7.11)\n",
            "Requirement already satisfied: confection<1.0.0,>=0.0.1 in /usr/local/lib/python3.10/dist-packages (from thinc<8.3.0,>=8.2.2->spacy<3.8.0,>=3.7.0->es-core-news-sm==3.7.0) (0.1.5)\n",
            "Requirement already satisfied: click>=8.0.0 in /usr/local/lib/python3.10/dist-packages (from typer<1.0.0,>=0.3.0->spacy<3.8.0,>=3.7.0->es-core-news-sm==3.7.0) (8.1.7)\n",
            "Requirement already satisfied: shellingham>=1.3.0 in /usr/local/lib/python3.10/dist-packages (from typer<1.0.0,>=0.3.0->spacy<3.8.0,>=3.7.0->es-core-news-sm==3.7.0) (1.5.4)\n",
            "Requirement already satisfied: rich>=10.11.0 in /usr/local/lib/python3.10/dist-packages (from typer<1.0.0,>=0.3.0->spacy<3.8.0,>=3.7.0->es-core-news-sm==3.7.0) (13.9.2)\n",
            "Requirement already satisfied: cloudpathlib<1.0.0,>=0.7.0 in /usr/local/lib/python3.10/dist-packages (from weasel<0.5.0,>=0.1.0->spacy<3.8.0,>=3.7.0->es-core-news-sm==3.7.0) (0.19.0)\n",
            "Requirement already satisfied: smart-open<8.0.0,>=5.2.1 in /usr/local/lib/python3.10/dist-packages (from weasel<0.5.0,>=0.1.0->spacy<3.8.0,>=3.7.0->es-core-news-sm==3.7.0) (7.0.5)\n",
            "Requirement already satisfied: MarkupSafe>=2.0 in /usr/local/lib/python3.10/dist-packages (from jinja2->spacy<3.8.0,>=3.7.0->es-core-news-sm==3.7.0) (3.0.1)\n",
            "Requirement already satisfied: marisa-trie>=0.7.7 in /usr/local/lib/python3.10/dist-packages (from language-data>=1.2->langcodes<4.0.0,>=3.2.0->spacy<3.8.0,>=3.7.0->es-core-news-sm==3.7.0) (1.2.0)\n",
            "Requirement already satisfied: markdown-it-py>=2.2.0 in /usr/local/lib/python3.10/dist-packages (from rich>=10.11.0->typer<1.0.0,>=0.3.0->spacy<3.8.0,>=3.7.0->es-core-news-sm==3.7.0) (3.0.0)\n",
            "Requirement already satisfied: pygments<3.0.0,>=2.13.0 in /usr/local/lib/python3.10/dist-packages (from rich>=10.11.0->typer<1.0.0,>=0.3.0->spacy<3.8.0,>=3.7.0->es-core-news-sm==3.7.0) (2.18.0)\n",
            "Requirement already satisfied: wrapt in /usr/local/lib/python3.10/dist-packages (from smart-open<8.0.0,>=5.2.1->weasel<0.5.0,>=0.1.0->spacy<3.8.0,>=3.7.0->es-core-news-sm==3.7.0) (1.16.0)\n",
            "Requirement already satisfied: mdurl~=0.1 in /usr/local/lib/python3.10/dist-packages (from markdown-it-py>=2.2.0->rich>=10.11.0->typer<1.0.0,>=0.3.0->spacy<3.8.0,>=3.7.0->es-core-news-sm==3.7.0) (0.1.2)\n",
            "\u001b[38;5;2m✔ Download and installation successful\u001b[0m\n",
            "You can now load the package via spacy.load('es_core_news_sm')\n",
            "\u001b[38;5;3m⚠ Restart to reload dependencies\u001b[0m\n",
            "If you are in a Jupyter or Colab notebook, you may need to restart Python in\n",
            "order to load all the package's dependencies. You can do this by selecting the\n",
            "'Restart kernel' or 'Restart runtime' option.\n",
            "Requirement already satisfied: num2words in /usr/local/lib/python3.10/dist-packages (0.5.13)\n",
            "Requirement already satisfied: docopt>=0.6.2 in /usr/local/lib/python3.10/dist-packages (from num2words) (0.6.2)\n"
          ]
        }
      ]
    },
    {
      "cell_type": "code",
      "execution_count": 58,
      "metadata": {
        "id": "hvs3anf0wBVA"
      },
      "outputs": [],
      "source": [
        "import unicodedata\n",
        "import re\n",
        "from num2words import num2words\n",
        "import spacy\n",
        "from collections import Counter\n",
        "import matplotlib.pyplot as plt\n",
        "import pandas as pd"
      ]
    },
    {
      "cell_type": "markdown",
      "source": [
        "### Texto"
      ],
      "metadata": {
        "id": "JE_g8nOZwsHV"
      }
    },
    {
      "cell_type": "code",
      "execution_count": 43,
      "metadata": {
        "id": "XZCuHe22wBVA"
      },
      "outputs": [],
      "source": [
        "dinosaurios = \"\"\"Los dinosaurios, del superorden Dinosauria (del griego δεινός deinós ‘terrible’ y σαῦρος sauros ‘lagarto’, ‘lagartos terribles’) son un grupo de saurópsidos7​8​ diápsidos arcosaurios que aparecieron durante el período Triásico con distribución cosmopolita. Aunque el origen exacto y su diversificación temprana es tema de activa investigación,9​ el consenso científico actual sitúa su origen entre 245 y 231 millones de años atrás, entre el Triásico Medio al Superior.10​\n",
        "\n",
        "Fueron los vertebrados terrestres dominantes durante 135 millones de años, desde el inicio del Jurásico, hace unos 200 millones de años, a partir de la extinción masiva del Triásico-Jurásico, hasta el final del Cretácico, hace 66 millones de años, cuando la mayoría de los grupos de dinosaurios se extinguieron durante la extinción masiva del Cretácico-Paleógeno que puso fin a la Era Mesozoica. El registro fósil indica que las aves evolucionaron a partir de dinosaurios terópodos durante el período Jurásico y, en consecuencia, muchos taxónomos consideran que las aves forman un subgrupo dentro de los dinosaurios.11​ Algunas aves sobrevivieron a este acontecimiento, y sus descendientes continúan el linaje de los dinosaurios hasta nuestros días.12​ Por lo tanto, los dinosaurios se pueden dividir en dinosaurios aviares, las aves en un sentido estricto, y los dinosaurios no aviares, todos extintos, que son todos dinosaurios distintos de las aves.\n",
        "\n",
        "Los dinosaurios son un grupo diverso de animales desde el punto de vista taxonómico, morfológico y ecológico. Usando la evidencia fósil, los paleontólogos han identificado cerca de 900 géneros distintos13​ y más de 1000 especies diferentes de dinosaurios no avianos.14​ Los dinosaurios están representados en todos los continentes tanto por especies existentes, las aves, como por restos fósiles.\n",
        "\n",
        "Algunos son herbívoros, otros carnívoros u omnívoros. Los primeros dinosaurios fueron bípedos, pero muchos grupos incluyeron especies cuadrúpedas, y algunos podían alternar los dos tipos de locomoción. Los cuernos o crestas son comunes a todos los grupos de dinosaurios, y algunos grupos desarrollaron modificaciones esqueléticas como armaduras óseas y espinas. La evidencia sugiere que la puesta de huevos y la construcción de nidos fueron rasgos que compartían todos los dinosaurios. Muchos dinosaurios eran de gran porte, el dinosaurio saurópodo más grande pudo haber alcanzado una longitud de 40 m y 18 m de altura y una masa estimada máxima de 140 t. Sin embargo, la idea de que los dinosaurios no aviares fueron todos gigantescos es un error basado en el sesgo de conservación, ya que los huesos grandes y fuertes tienen más probabilidad de durar hasta que se fosilicen. Muchos dinosaurios eran bastante pequeños, algunos median solamente unos 50 cm de largo.\n",
        "\n",
        "Aunque la palabra dinosaurio significa ‘lagarto terrible’, el nombre es un poco engañoso, ya que los dinosaurios no son lagartos. En cambio, representan un grupo separado de reptiles que, como muchas formas extintas, no muestran características tradicionalmente vistas como propias de un reptil, como la postura extendida hacia los lados de las extremidades o la ectotermia. Además, muchos animales prehistóricos, incluidos los ictiosaurios, mosasaurios, plesiosaurios, pterosaurios y pelicosaurios, como Dimetrodon, son popularmente concebidos como dinosaurios, pero no están clasificados taxonómicamente como tales. A lo largo de la primera mitad del siglo XX, antes de que las aves fueran reconocidas como dinosaurios, la mayor parte de la comunidad científica creía que los dinosaurios habían sido lentos y de sangre fría. No obstante, la mayoría de las investigaciones realizadas desde la década de 1970 han indicado que todos los dinosaurios eran animales activos con metabolismo elevado y numerosas adaptaciones para la interacción social.15​\n",
        "\n",
        "Desde que en el siglo XIX se reconocieron los primeros fósiles de dinosaurio, los esqueletos fósiles montados han sido la principal atracción de muchos museos de todo el mundo, y los dinosaurios se han convertido en parte permanente de la cultura mundial. El gran tamaño de algunos grupos, así como su naturaleza aparentemente monstruosa y fantástica, han asegurado apariciones regulares de dinosaurios en los libros de mayor venta y en películas como Parque Jurásico. El persistente entusiasmo del público por estos animales ha dado lugar a una importante financiación para la investigación científica de los dinosaurios, y los nuevos descubrimientos son dados a conocer regularmente en los medios de comunicación.\"\"\""
      ]
    },
    {
      "cell_type": "markdown",
      "source": [
        "### Normalizamos el Texto"
      ],
      "metadata": {
        "id": "JgYXGzE9BkYF"
      }
    },
    {
      "cell_type": "code",
      "source": [
        "def Normalizar_texto(texto):\n",
        "\n",
        "    # Convertimos todo el texto a minúsculas\n",
        "    texto_minusculas = texto.lower()\n",
        "\n",
        "    # Codigo para quitar las tildes de un texto\n",
        "    texto_normalizado = unicodedata.normalize('NFD', texto_minusculas)\n",
        "    texto_sin_tildes = ''.join(c for c in texto_normalizado if unicodedata.category(c) != 'Mn')\n",
        "\n",
        "    # Eliminamos carácteres especiales de un texto\n",
        "    texto_sin_caracteres = re.sub(r'[^A-Za-z0-9áéíóúÁÉÍÓÚñÑ\\s]', '', texto_sin_tildes)\n",
        "\n",
        "    # Quita las preposiciones, conectores, etc... de un texto\n",
        "    preposiciones = ['y', 'e', 'ni', 'que', 'o', 'u', 'pero', 'aunque', 'sin embargo', 'no obstante', 'es decir', 'o sea', 'por lo tanto', 'por consiguiente', 'de modo que',\n",
        "                 'así que', 'entonces', 'además', 'incluso', 'asimismo', 'por ejemplo','yo', 'tú', 'vos','usted', 'él', 'ella', 'nosotros', 'nosotras',\n",
        "                 'vosotros', 'vosotras', 'ustedes', 'ellos', 'ellas', 'me', 'te', 'son','un','el','es','al','unos','era','dentro','este','sus','no','tanto','pueden','como','una','m',\n",
        "                 'se', 'nos', 'os', 'mi', 'mío', 'mía', 'míos', 'mías', 'tu', 'tuyo', 'tuya', 'tuyos', 'tuyas', 'su', 'suyo', 'suya', 'suyos', 'tales','asi','estos',\n",
        "                 'suyas', 'nuestro', 'nuestra', 'nuestros', 'nuestras', 'vuestro', 'vuestra', 'vuestros', 'vuestras', 'le', 'les', 'lo', 'los', 'la', 'las','a', 'ante', 'bajo', 'cabe', 'con', 'contra', 'de', 'desde',\n",
        "                 'durante', 'en','del', 'entre', 'hacia', 'hasta', 'mediante', 'para', 'por', 'según', 'sin', 'so', 'sobre', 'tras', 'versus', 'vía']\n",
        "    palabras = texto_sin_caracteres.split()\n",
        "    texto_sin_preposiciones = [palabra for palabra in palabras if palabra not in preposiciones]\n",
        "    texto_sin_preposiciones = ' '.join(texto_sin_preposiciones)\n",
        "\n",
        "    # Función para eliminar los super-índices pegados en el texto.\n",
        "    texto_sin_indices = re.sub(r'(\\b\\w+\\d+)', lambda m: m.group(0)[:-len(m.group(1))], texto_sin_preposiciones)\n",
        "\n",
        "    #Función que quita los doble espacios de un texto y deja solo un espacio.\n",
        "    texto_sin_2espacios = re.sub(r'\\s+', ' ', texto_sin_indices)\n",
        "\n",
        "    return texto_sin_2espacios"
      ],
      "metadata": {
        "id": "1ATKHR3F5gM2"
      },
      "execution_count": 46,
      "outputs": []
    },
    {
      "cell_type": "code",
      "source": [
        "texto_limpio = Normalizar_texto(dinosaurios)\n",
        "texto_limpio"
      ],
      "metadata": {
        "colab": {
          "base_uri": "https://localhost:8080/",
          "height": 139
        },
        "id": "ziUdQJdO72Hf",
        "outputId": "bc8ecfd7-6e23-4bf4-b500-572404dd5c9d"
      },
      "execution_count": 59,
      "outputs": [
        {
          "output_type": "execute_result",
          "data": {
            "text/plain": [
              "'dinosaurios superorden dinosauria griego deinos terrible sauros lagarto lagartos terribles grupo diapsidos arcosaurios aparecieron periodo triasico distribucion cosmopolita origen exacto diversificacion temprana tema activa consenso cientifico actual situa origen millones anos atras triasico medio fueron vertebrados terrestres dominantes millones anos inicio jurasico hace millones anos partir extincion masiva triasicojurasico final cretacico hace millones anos cuando mayoria grupos dinosaurios extinguieron extincion masiva cretacicopaleogeno puso fin mesozoica registro fosil indica aves evolucionaron partir dinosaurios teropodos periodo jurasico consecuencia muchos taxonomos consideran aves forman subgrupo algunas aves sobrevivieron acontecimiento descendientes continuan linaje dinosaurios dinosaurios dividir dinosaurios aviares aves sentido estricto dinosaurios aviares todos extintos todos dinosaurios distintos aves dinosaurios grupo diverso animales punto vista taxonomico morfologico ecologico usando evidencia fosil paleontologos han identificado cerca generos mas especies diferentes dinosaurios dinosaurios estan representados todos continentes especies existentes aves restos fosiles algunos herbivoros otros carnivoros omnivoros primeros dinosaurios fueron bipedos muchos grupos incluyeron especies cuadrupedas algunos podian alternar dos tipos locomocion cuernos crestas comunes todos grupos dinosaurios algunos grupos desarrollaron modificaciones esqueleticas armaduras oseas espinas evidencia sugiere puesta huevos construccion nidos fueron rasgos compartian todos dinosaurios muchos dinosaurios eran gran porte dinosaurio sauropodo mas grande pudo haber alcanzado longitud altura masa estimada maxima t embargo idea dinosaurios aviares fueron todos gigantescos error basado sesgo conservacion ya huesos grandes fuertes tienen mas probabilidad durar fosilicen muchos dinosaurios eran bastante pequenos algunos median solamente cm largo palabra dinosaurio significa lagarto terrible nombre poco enganoso ya dinosaurios lagartos cambio representan grupo separado reptiles muchas formas extintas muestran caracteristicas tradicionalmente vistas propias reptil postura extendida lados extremidades ectotermia ademas muchos animales prehistoricos incluidos ictiosaurios mosasaurios plesiosaurios pterosaurios pelicosaurios dimetrodon popularmente concebidos dinosaurios estan clasificados taxonomicamente largo primera mitad siglo xx antes aves fueran reconocidas dinosaurios mayor parte comunidad cientifica creia dinosaurios habian sido lentos sangre fria obstante mayoria investigaciones realizadas decada han indicado todos dinosaurios eran animales activos metabolismo elevado numerosas adaptaciones interaccion siglo xix reconocieron primeros fosiles dinosaurio esqueletos fosiles montados han sido principal atraccion muchos museos todo mundo dinosaurios han convertido parte permanente cultura mundial gran tamano algunos grupos naturaleza aparentemente monstruosa fantastica han asegurado apariciones regulares dinosaurios libros mayor venta peliculas parque jurasico persistente entusiasmo publico animales ha dado lugar importante financiacion investigacion cientifica dinosaurios nuevos descubrimientos dados conocer regularmente medios comunicacion'"
            ],
            "application/vnd.google.colaboratory.intrinsic+json": {
              "type": "string"
            }
          },
          "metadata": {},
          "execution_count": 59
        }
      ]
    },
    {
      "cell_type": "markdown",
      "source": [
        "### Tokenizamos y Lematizamos"
      ],
      "metadata": {
        "id": "KKuSdZ3qBzsR"
      }
    },
    {
      "cell_type": "code",
      "source": [
        "texto_tokenizado = texto_limpio.split(\" \") # Tokenización separado por espacios\n",
        "texto_tokenizado;"
      ],
      "metadata": {
        "id": "M-Yo6MHp-Biv"
      },
      "execution_count": 49,
      "outputs": []
    },
    {
      "cell_type": "code",
      "source": [
        "nlp = spacy.load(\"es_core_news_sm\") # modelo de procesamiento de lenguaje natural (NLP) de spaCy para el idioma español\n",
        "\n",
        "def lemmatize_text(tokens):\n",
        "  doc = nlp(\" \".join(tokens))\n",
        "  lemmas = [token.lemma_ for token in doc]\n",
        "  return lemmas\n",
        "\n",
        "lemmas_dinosaurios= lemmatize_text(texto_tokenizado)\n",
        "print(lemmas_dinosaurios)"
      ],
      "metadata": {
        "colab": {
          "base_uri": "https://localhost:8080/"
        },
        "id": "M0LMDRkm-LOX",
        "outputId": "ed9e36ba-5894-45c1-e5a6-15c9a0bd7d1b"
      },
      "execution_count": 50,
      "outputs": [
        {
          "output_type": "stream",
          "name": "stdout",
          "text": [
            "['dinosaurio', 'superordir', 'dinosaurio', 'griego', 'deinos', 'terrible', 'sauro', 'lagarto', 'lagarto', 'terrible', 'grupo', 'diapsido', 'arcosaurio', 'aparecer', 'periodo', 'triasico', 'distribucion', 'cosmopolita', 'origen', 'exacto', 'diversificacion', 'temprano', 'tema', 'activo', 'consenso', 'cientifico', 'actual', 'situo', 'origen', 'millón', 'ano', 'atra', 'triasico', 'medio', 'ser', 'vertebrar', 'terrestre', 'dominante', 'millón', 'ano', 'inicio', 'jurasico', 'hacer', 'millón', 'ano', 'partir', 'extincion', 'masivo', 'triasicojurasico', 'final', 'cretacico', 'hacer', 'millón', 'ano', 'cuando', 'mayoriir', 'grupo', 'dinosaurio', 'extinguir', 'extincion', 'masivo', 'cretacicopaleogeno', 'poner', 'fin', 'mesozoico', 'registro', 'fosil', 'indicar', 'ave', 'evolucionar', 'partir', 'dinosaurio', 'teropodo', 'periodo', 'jurasico', 'consecuenciar', 'mucho', 'taxonomo', 'considerar', 'ave', 'formar', 'subgraber', 'alguno', 'ave', 'sobrevivir', 'acontecimiento', 'descendiente', 'continuan', 'linaje', 'dinosaurio', 'dinosaurio', 'dividir', 'dinosaurio', 'aviar', 'ave', 'sentido', 'estricto', 'dinosaurio', 'aviar', 'todo', 'extinto', 'todo', 'dinosaurio', 'distinto', 'ave', 'dinosaurio', 'grupo', 'diverso', 'animal', 'punto', 'visto', 'taxonomico', 'morfologico', 'ecologico', 'usar', 'evidencia', 'fosil', 'paleontologo', 'haber', 'identificar', 'cerca', 'genero', 'mas', 'especie', 'diferente', 'dinosaurio', 'dinosaurio', 'estar', 'representado', 'todo', 'continente', 'especie', 'existente', 'ave', 'resto', 'fosil', 'alguno', 'herbivoro', 'otro', 'carnivoro', 'omnivoro', 'primero', 'dinosaurio', 'ser', 'bipedos', 'mucho', 'grupo', 'incluir', 'especie', 'cuadrupeda', 'alguno', 'podiar', 'alternar', 'dos', 'tipo', 'locomocion', 'cuerno', 'cresta', 'común', 'todo', 'grupo', 'dinosaurio', 'alguno', 'grupo', 'desarrollar', 'modificación', 'esqueletica', 'armadura', 'osea', 'espina', 'evidenciar', 'sugerir', 'puesto', 'huevo', 'construccion', 'nido', 'ser', 'rasgo', 'compartiar', 'todo', 'dinosaurio', 'mucho', 'dinosaurio', 'ser', 'gran', 'porte', 'dinosaurio', 'sauropodo', 'mas', 'grande', 'poder', 'haber', 'alcanzar', 'longitud', 'altura', 'masa', 'estimado', 'maximo', 't', 'embargo', 'idear', 'dinosaurio', 'aviar', 'ser', 'todo', 'gigantesco', 'error', 'basado', 'sesgo', 'conservacion', 'ya', 'hueso', 'grande', 'fuerte', 'tener', 'mas', 'probabilidad', 'durar', 'fosilicir', 'mucho', 'dinosaurio', 'ser', 'bastante', 'pequeno', 'alguno', 'mediar', 'solamente', 'cm', 'largo', 'palabra', 'dinosaurio', 'significar', 'lagarto', 'terrible', 'nombre', 'poco', 'enganoso', 'ya', 'dinosaurio', 'lagarto', 'cambio', 'representar', 'grupo', 'separado', 'reptil', 'mucho', 'forma', 'extinto', 'mostrar', 'caracteristica', 'tradicionalmente', 'visto', 'propio', 'reptil', 'postura', 'extendido', 'lado', 'extremidades', 'ectotermia', 'adema', 'mucho', 'animal', 'prehistorico', 'incluido', 'ictiosaurio', 'mosasaurio', 'plesiosaurio', 'pterosaurio', 'pelicosaurio', 'dimetrodon', 'popularmente', 'concebido', 'dinosaurio', 'estar', 'clasificado', 'taxonomicamente', 'largo', 'primero', 'mitad', 'siglo', 'xx', 'antes', 'ave', 'ser', 'reconocer', 'dinosaurio', 'mayor', 'parte', 'comunidad', 'cientifico', 'creer', 'dinosaurio', 'habiar', 'ser', 'lento', 'sangre', 'frio', 'obstante', 'mayorio', 'investigación', 'realizado', 'decado', 'haber', 'indicar', 'todo', 'dinosaurio', 'ser', 'animal', 'activo', 'metabolismo', 'elevado', 'numeroso', 'adaptación', 'interaccion', 'siglo', 'xix', 'reconocer', 'primero', 'fosil', 'dinosaurio', 'esqueleto', 'fosil', 'montado', 'haber', 'ser', 'principal', 'atraccion', 'mucho', 'museo', 'todo', 'mundir', 'dinosaurio', 'haber', 'convertir', 'parte', 'permanente', 'cultura', 'mundial', 'gran', 'tamano', 'alguno', 'grupo', 'naturaleza', 'aparentemente', 'monstruoso', 'fantastico', 'haber', 'asegurar', 'aparición', 'regular', 'dinosaurio', 'libro', 'mayor', 'venta', 'pelicula', 'parque', 'jurasico', 'persistente', 'entusiasmo', 'publico', 'animal', 'haber', 'dar', 'lugar', 'importante', 'financiacion', 'investigacion', 'cientifico', 'dinosaurio', 'nuevo', 'descubrimiento', 'dado', 'conocer', 'regularmente', 'medio', 'comunicacion']\n"
          ]
        }
      ]
    },
    {
      "cell_type": "markdown",
      "source": [
        "### Gráficos y Resultados"
      ],
      "metadata": {
        "id": "N-hSyw76B8rg"
      }
    },
    {
      "cell_type": "code",
      "source": [
        "# Mostrar las 10 palabras más frecuentes\n",
        "most_common_words = Counter(lemmas_dinosaurios).most_common(10) # Contar la frecuencia de las palabras lematizadas y sacamos el top 10\n",
        "print(\"Las 10 palabras más frecuentes:\")\n",
        "for word, count in most_common_words:\n",
        "    print(f\"{word}: {count}\")\n",
        "\n",
        "print(\"\")\n",
        "\n",
        "# Crear un gráfico de barras para visualizar la frecuencia de las palabras\n",
        "plt.figure(figsize=(10, 6))\n",
        "plt.bar(*zip(*most_common_words))\n",
        "plt.xlabel(\"Palabras\")\n",
        "plt.ylabel(\"Frecuencia\")\n",
        "plt.title(\"Palabras más frecuentes en el texto lematizado (Dinosaurios)\")\n",
        "plt.xticks(rotation=45, ha='right')\n",
        "plt.tight_layout()\n",
        "plt.show()\n",
        "\n",
        "print(\"\")\n",
        "\n",
        "# Crear una tabla con la frecuencia de las palabras\n",
        "df_word_counts = pd.DataFrame(word_counts.most_common(), columns=['Palabra', 'Frecuencia'])\n",
        "print(\"Tabla de frecuencia de palabras:\")\n",
        "print(df_word_counts)"
      ],
      "metadata": {
        "colab": {
          "base_uri": "https://localhost:8080/",
          "height": 1000
        },
        "id": "4Y9YGouA-Ya5",
        "outputId": "da57a1eb-399d-4c51-f3b1-af547b3b9f20"
      },
      "execution_count": 63,
      "outputs": [
        {
          "output_type": "stream",
          "name": "stdout",
          "text": [
            "Las 10 palabras más frecuentes:\n",
            "dinosaurio: 29\n",
            "ser: 10\n",
            "grupo: 8\n",
            "todo: 8\n",
            "ave: 7\n",
            "mucho: 7\n",
            "haber: 7\n",
            "alguno: 6\n",
            "fosil: 5\n",
            "lagarto: 4\n",
            "\n"
          ]
        },
        {
          "output_type": "display_data",
          "data": {
            "text/plain": [
              "<Figure size 1000x600 with 1 Axes>"
            ],
            "image/png": "[encoded data removed]"
          },
          "metadata": {}
        },
        {
          "output_type": "stream",
          "name": "stdout",
          "text": [
            "\n",
            "Tabla de frecuencia de palabras:\n",
            "            Palabra  Frecuencia\n",
            "0        dinosaurio          29\n",
            "1               ser          10\n",
            "2             grupo           8\n",
            "3              todo           8\n",
            "4               ave           7\n",
            "..              ...         ...\n",
            "245  descubrimiento           1\n",
            "246            dado           1\n",
            "247         conocer           1\n",
            "248    regularmente           1\n",
            "249    comunicacion           1\n",
            "\n",
            "[250 rows x 2 columns]\n"
          ]
        }
      ]
    }
  ],
  "metadata": {
    "kernelspec": {
      "display_name": "venv",
      "language": "python",
      "name": "python3"
    },
    "language_info": {
      "codemirror_mode": {
        "name": "ipython",
        "version": 3
      },
      "file_extension": ".py",
      "mimetype": "text/x-python",
      "name": "python",
      "nbconvert_exporter": "python",
      "pygments_lexer": "ipython3",
      "version": "3.12.4"
    },
    "colab": {
      "provenance": []
    }
  },
  "nbformat": 4,
  "nbformat_minor": 0
}